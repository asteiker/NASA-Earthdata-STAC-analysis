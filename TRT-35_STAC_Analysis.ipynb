{
 "cells": [
  {
   "cell_type": "markdown",
   "id": "4eb13f66-01ca-45be-8a8c-8d87f2be848b",
   "metadata": {},
   "source": [
    "# TRT-35: Harmony STAC for Analysis Ready Data\n",
    "\n",
    "### Notebook goal\n",
    "\n",
    "Test a basic STAC catalog workflow from:\n",
    "  *  Harmony \n",
    "  * CMR-STAC \n",
    "  * VEDA endpoint\n",
    "  * External (e.g. Planetary Computer) STAC catalog?\n",
    "\n",
    "to determine:\n",
    "1. Interoperability with common stac libraries\n",
    "2. Feature parity vs gaps in functionality for Harmony\n",
    "3. Utility as input into VEDA workflow\n"
   ]
  },
  {
   "cell_type": "markdown",
   "id": "97362edb-74bb-4784-a79a-cac635ba82b1",
   "metadata": {},
   "source": [
    "## 1. Determine dataset/use case \n",
    "Resources: \n",
    "* https://nasa-openscapes.github.io/2021-Cloud-Hackathon/tutorials/02_Data_Discovery_CMR-STAC_API.html for CMR-STAC example\n",
    "* https://nasa-openscapes.github.io/earthdata-cloud-cookbook/examples/LPDAAC/Find_and_Access_HLS_PointBuffer.html for another CMR-STAC example\n",
    "* https://github.com/nasa/harmony-py/blob/main/examples/intro_tutorial.ipynb for Harmony STAC example\n",
    "* https://nasa-impact.github.io/veda-docs/ for VEDA examples\n",
    "* https://staging-stac.delta-backend.com/ : VEDA STAC API\n",
    "\n",
    "We can use HLS example for CMR-STAC and a COG output example from Harmony to control for file format."
   ]
  },
  {
   "cell_type": "markdown",
   "id": "9987ccab-d51e-418a-bec8-8a4b79e73c5c",
   "metadata": {},
   "source": [
    "## 2. CMR-STAC Example\n",
    "Copying from LP DAAC, VEDA, and Harmony tutorials above\n",
    "\n",
    "What are the common STAC library imports across the three?\n",
    "\n",
    "`from pystac_client import Client` is common across CMR-STAC and VEDA\n",
    "\n",
    "**Questions for stakholders:** \n",
    "1. What is best practice when it comes to using `pystac_client`? \n",
    "2. Is Harmony's use of `pystac` incorrect? From 2i2c Hub I get an error importing STAC_IO so it is commented out below\n",
    "3. Should we support both `pystac_client` and `intake`?"
   ]
  },
  {
   "cell_type": "code",
   "execution_count": 2,
   "id": "afa841f9-c21f-4abd-9ec8-baf6aeef5192",
   "metadata": {
    "collapsed": true,
    "jupyter": {
     "outputs_hidden": true
    },
    "tags": []
   },
   "outputs": [
    {
     "ename": "ImportError",
     "evalue": "cannot import name 'ParserError' from 'dateutil.parser' (/srv/conda/envs/notebook/lib/python3.9/site-packages/dateutil/parser/__init__.py)",
     "output_type": "error",
     "traceback": [
      "\u001b[0;31m---------------------------------------------------------------------------\u001b[0m",
      "\u001b[0;31mImportError\u001b[0m                               Traceback (most recent call last)",
      "Cell \u001b[0;32mIn[2], line 5\u001b[0m\n\u001b[1;32m      3\u001b[0m \u001b[38;5;28;01mfrom\u001b[39;00m \u001b[38;5;21;01mshapely\u001b[39;00m\u001b[38;5;21;01m.\u001b[39;00m\u001b[38;5;21;01mgeometry\u001b[39;00m \u001b[38;5;28;01mimport\u001b[39;00m Point\n\u001b[1;32m      4\u001b[0m \u001b[38;5;28;01mimport\u001b[39;00m \u001b[38;5;21;01mjson\u001b[39;00m\n\u001b[0;32m----> 5\u001b[0m \u001b[38;5;28;01mimport\u001b[39;00m \u001b[38;5;21;01mgeopandas\u001b[39;00m\n\u001b[1;32m      6\u001b[0m \u001b[38;5;28;01mimport\u001b[39;00m \u001b[38;5;21;01mrasterio\u001b[39;00m \u001b[38;5;28;01mas\u001b[39;00m \u001b[38;5;21;01mrio\u001b[39;00m\n\u001b[1;32m      7\u001b[0m \u001b[38;5;28;01mimport\u001b[39;00m \u001b[38;5;21;01mrioxarray\u001b[39;00m\n",
      "File \u001b[0;32m/srv/conda/envs/notebook/lib/python3.9/site-packages/geopandas/__init__.py:1\u001b[0m\n\u001b[0;32m----> 1\u001b[0m \u001b[38;5;28;01mfrom\u001b[39;00m \u001b[38;5;21;01mgeopandas\u001b[39;00m\u001b[38;5;21;01m.\u001b[39;00m\u001b[38;5;21;01m_config\u001b[39;00m \u001b[38;5;28;01mimport\u001b[39;00m options  \u001b[38;5;66;03m# noqa\u001b[39;00m\n\u001b[1;32m      3\u001b[0m \u001b[38;5;28;01mfrom\u001b[39;00m \u001b[38;5;21;01mgeopandas\u001b[39;00m\u001b[38;5;21;01m.\u001b[39;00m\u001b[38;5;21;01mgeoseries\u001b[39;00m \u001b[38;5;28;01mimport\u001b[39;00m GeoSeries  \u001b[38;5;66;03m# noqa\u001b[39;00m\n\u001b[1;32m      4\u001b[0m \u001b[38;5;28;01mfrom\u001b[39;00m \u001b[38;5;21;01mgeopandas\u001b[39;00m\u001b[38;5;21;01m.\u001b[39;00m\u001b[38;5;21;01mgeodataframe\u001b[39;00m \u001b[38;5;28;01mimport\u001b[39;00m GeoDataFrame  \u001b[38;5;66;03m# noqa\u001b[39;00m\n",
      "File \u001b[0;32m/srv/conda/envs/notebook/lib/python3.9/site-packages/geopandas/_config.py:109\u001b[0m\n\u001b[1;32m    102\u001b[0m     \u001b[38;5;28;01mimport\u001b[39;00m \u001b[38;5;21;01mgeopandas\u001b[39;00m\u001b[38;5;21;01m.\u001b[39;00m\u001b[38;5;21;01m_compat\u001b[39;00m \u001b[38;5;28;01mas\u001b[39;00m \u001b[38;5;21;01mcompat\u001b[39;00m\n\u001b[1;32m    104\u001b[0m     compat\u001b[38;5;241m.\u001b[39mset_use_pygeos(value)\n\u001b[1;32m    107\u001b[0m use_pygeos \u001b[38;5;241m=\u001b[39m Option(\n\u001b[1;32m    108\u001b[0m     key\u001b[38;5;241m=\u001b[39m\u001b[38;5;124m\"\u001b[39m\u001b[38;5;124muse_pygeos\u001b[39m\u001b[38;5;124m\"\u001b[39m,\n\u001b[0;32m--> 109\u001b[0m     default_value\u001b[38;5;241m=\u001b[39m\u001b[43m_default_use_pygeos\u001b[49m\u001b[43m(\u001b[49m\u001b[43m)\u001b[49m,\n\u001b[1;32m    110\u001b[0m     doc\u001b[38;5;241m=\u001b[39m(\n\u001b[1;32m    111\u001b[0m         \u001b[38;5;124m\"\u001b[39m\u001b[38;5;124mWhether to use PyGEOS to speed up spatial operations. The default is True \u001b[39m\u001b[38;5;124m\"\u001b[39m\n\u001b[1;32m    112\u001b[0m         \u001b[38;5;124m\"\u001b[39m\u001b[38;5;124mif PyGEOS is installed, and follows the USE_PYGEOS environment variable \u001b[39m\u001b[38;5;124m\"\u001b[39m\n\u001b[1;32m    113\u001b[0m         \u001b[38;5;124m\"\u001b[39m\u001b[38;5;124mif set.\u001b[39m\u001b[38;5;124m\"\u001b[39m\n\u001b[1;32m    114\u001b[0m     ),\n\u001b[1;32m    115\u001b[0m     validator\u001b[38;5;241m=\u001b[39m_validate_bool,\n\u001b[1;32m    116\u001b[0m     callback\u001b[38;5;241m=\u001b[39m_callback_use_pygeos,\n\u001b[1;32m    117\u001b[0m )\n\u001b[1;32m    120\u001b[0m options \u001b[38;5;241m=\u001b[39m Options({\u001b[38;5;124m\"\u001b[39m\u001b[38;5;124mdisplay_precision\u001b[39m\u001b[38;5;124m\"\u001b[39m: display_precision, \u001b[38;5;124m\"\u001b[39m\u001b[38;5;124muse_pygeos\u001b[39m\u001b[38;5;124m\"\u001b[39m: use_pygeos})\n",
      "File \u001b[0;32m/srv/conda/envs/notebook/lib/python3.9/site-packages/geopandas/_config.py:95\u001b[0m, in \u001b[0;36m_default_use_pygeos\u001b[0;34m()\u001b[0m\n\u001b[1;32m     94\u001b[0m \u001b[38;5;28;01mdef\u001b[39;00m \u001b[38;5;21m_default_use_pygeos\u001b[39m():\n\u001b[0;32m---> 95\u001b[0m     \u001b[38;5;28;01mimport\u001b[39;00m \u001b[38;5;21;01mgeopandas\u001b[39;00m\u001b[38;5;21;01m.\u001b[39;00m\u001b[38;5;21;01m_compat\u001b[39;00m \u001b[38;5;28;01mas\u001b[39;00m \u001b[38;5;21;01mcompat\u001b[39;00m\n\u001b[1;32m     97\u001b[0m     \u001b[38;5;28;01mreturn\u001b[39;00m compat\u001b[38;5;241m.\u001b[39mUSE_PYGEOS\n",
      "File \u001b[0;32m/srv/conda/envs/notebook/lib/python3.9/site-packages/geopandas/_compat.py:8\u001b[0m\n\u001b[1;32m      5\u001b[0m \u001b[38;5;28;01mimport\u001b[39;00m \u001b[38;5;21;01mwarnings\u001b[39;00m\n\u001b[1;32m      7\u001b[0m \u001b[38;5;28;01mimport\u001b[39;00m \u001b[38;5;21;01mnumpy\u001b[39;00m \u001b[38;5;28;01mas\u001b[39;00m \u001b[38;5;21;01mnp\u001b[39;00m\n\u001b[0;32m----> 8\u001b[0m \u001b[38;5;28;01mimport\u001b[39;00m \u001b[38;5;21;01mpandas\u001b[39;00m \u001b[38;5;28;01mas\u001b[39;00m \u001b[38;5;21;01mpd\u001b[39;00m\n\u001b[1;32m      9\u001b[0m \u001b[38;5;28;01mimport\u001b[39;00m \u001b[38;5;21;01mpyproj\u001b[39;00m\n\u001b[1;32m     10\u001b[0m \u001b[38;5;28;01mimport\u001b[39;00m \u001b[38;5;21;01mshapely\u001b[39;00m\n",
      "File \u001b[0;32m/srv/conda/envs/notebook/lib/python3.9/site-packages/pandas/__init__.py:48\u001b[0m\n\u001b[1;32m     45\u001b[0m \u001b[38;5;66;03m# let init-time option registration happen\u001b[39;00m\n\u001b[1;32m     46\u001b[0m \u001b[38;5;28;01mimport\u001b[39;00m \u001b[38;5;21;01mpandas\u001b[39;00m\u001b[38;5;21;01m.\u001b[39;00m\u001b[38;5;21;01mcore\u001b[39;00m\u001b[38;5;21;01m.\u001b[39;00m\u001b[38;5;21;01mconfig_init\u001b[39;00m  \u001b[38;5;66;03m# pyright: ignore # noqa:F401\u001b[39;00m\n\u001b[0;32m---> 48\u001b[0m \u001b[38;5;28;01mfrom\u001b[39;00m \u001b[38;5;21;01mpandas\u001b[39;00m\u001b[38;5;21;01m.\u001b[39;00m\u001b[38;5;21;01mcore\u001b[39;00m\u001b[38;5;21;01m.\u001b[39;00m\u001b[38;5;21;01mapi\u001b[39;00m \u001b[38;5;28;01mimport\u001b[39;00m (\n\u001b[1;32m     49\u001b[0m     \u001b[38;5;66;03m# dtype\u001b[39;00m\n\u001b[1;32m     50\u001b[0m     ArrowDtype,\n\u001b[1;32m     51\u001b[0m     Int8Dtype,\n\u001b[1;32m     52\u001b[0m     Int16Dtype,\n\u001b[1;32m     53\u001b[0m     Int32Dtype,\n\u001b[1;32m     54\u001b[0m     Int64Dtype,\n\u001b[1;32m     55\u001b[0m     UInt8Dtype,\n\u001b[1;32m     56\u001b[0m     UInt16Dtype,\n\u001b[1;32m     57\u001b[0m     UInt32Dtype,\n\u001b[1;32m     58\u001b[0m     UInt64Dtype,\n\u001b[1;32m     59\u001b[0m     Float32Dtype,\n\u001b[1;32m     60\u001b[0m     Float64Dtype,\n\u001b[1;32m     61\u001b[0m     CategoricalDtype,\n\u001b[1;32m     62\u001b[0m     PeriodDtype,\n\u001b[1;32m     63\u001b[0m     IntervalDtype,\n\u001b[1;32m     64\u001b[0m     DatetimeTZDtype,\n\u001b[1;32m     65\u001b[0m     StringDtype,\n\u001b[1;32m     66\u001b[0m     BooleanDtype,\n\u001b[1;32m     67\u001b[0m     \u001b[38;5;66;03m# missing\u001b[39;00m\n\u001b[1;32m     68\u001b[0m     NA,\n\u001b[1;32m     69\u001b[0m     isna,\n\u001b[1;32m     70\u001b[0m     isnull,\n\u001b[1;32m     71\u001b[0m     notna,\n\u001b[1;32m     72\u001b[0m     notnull,\n\u001b[1;32m     73\u001b[0m     \u001b[38;5;66;03m# indexes\u001b[39;00m\n\u001b[1;32m     74\u001b[0m     Index,\n\u001b[1;32m     75\u001b[0m     CategoricalIndex,\n\u001b[1;32m     76\u001b[0m     RangeIndex,\n\u001b[1;32m     77\u001b[0m     MultiIndex,\n\u001b[1;32m     78\u001b[0m     IntervalIndex,\n\u001b[1;32m     79\u001b[0m     TimedeltaIndex,\n\u001b[1;32m     80\u001b[0m     DatetimeIndex,\n\u001b[1;32m     81\u001b[0m     PeriodIndex,\n\u001b[1;32m     82\u001b[0m     IndexSlice,\n\u001b[1;32m     83\u001b[0m     \u001b[38;5;66;03m# tseries\u001b[39;00m\n\u001b[1;32m     84\u001b[0m     NaT,\n\u001b[1;32m     85\u001b[0m     Period,\n\u001b[1;32m     86\u001b[0m     period_range,\n\u001b[1;32m     87\u001b[0m     Timedelta,\n\u001b[1;32m     88\u001b[0m     timedelta_range,\n\u001b[1;32m     89\u001b[0m     Timestamp,\n\u001b[1;32m     90\u001b[0m     date_range,\n\u001b[1;32m     91\u001b[0m     bdate_range,\n\u001b[1;32m     92\u001b[0m     Interval,\n\u001b[1;32m     93\u001b[0m     interval_range,\n\u001b[1;32m     94\u001b[0m     DateOffset,\n\u001b[1;32m     95\u001b[0m     \u001b[38;5;66;03m# conversion\u001b[39;00m\n\u001b[1;32m     96\u001b[0m     to_numeric,\n\u001b[1;32m     97\u001b[0m     to_datetime,\n\u001b[1;32m     98\u001b[0m     to_timedelta,\n\u001b[1;32m     99\u001b[0m     \u001b[38;5;66;03m# misc\u001b[39;00m\n\u001b[1;32m    100\u001b[0m     Flags,\n\u001b[1;32m    101\u001b[0m     Grouper,\n\u001b[1;32m    102\u001b[0m     factorize,\n\u001b[1;32m    103\u001b[0m     unique,\n\u001b[1;32m    104\u001b[0m     value_counts,\n\u001b[1;32m    105\u001b[0m     NamedAgg,\n\u001b[1;32m    106\u001b[0m     array,\n\u001b[1;32m    107\u001b[0m     Categorical,\n\u001b[1;32m    108\u001b[0m     set_eng_float_format,\n\u001b[1;32m    109\u001b[0m     Series,\n\u001b[1;32m    110\u001b[0m     DataFrame,\n\u001b[1;32m    111\u001b[0m )\n\u001b[1;32m    113\u001b[0m \u001b[38;5;28;01mfrom\u001b[39;00m \u001b[38;5;21;01mpandas\u001b[39;00m\u001b[38;5;21;01m.\u001b[39;00m\u001b[38;5;21;01mcore\u001b[39;00m\u001b[38;5;21;01m.\u001b[39;00m\u001b[38;5;21;01marrays\u001b[39;00m\u001b[38;5;21;01m.\u001b[39;00m\u001b[38;5;21;01msparse\u001b[39;00m \u001b[38;5;28;01mimport\u001b[39;00m SparseDtype\n\u001b[1;32m    115\u001b[0m \u001b[38;5;28;01mfrom\u001b[39;00m \u001b[38;5;21;01mpandas\u001b[39;00m\u001b[38;5;21;01m.\u001b[39;00m\u001b[38;5;21;01mtseries\u001b[39;00m\u001b[38;5;21;01m.\u001b[39;00m\u001b[38;5;21;01mapi\u001b[39;00m \u001b[38;5;28;01mimport\u001b[39;00m infer_freq\n",
      "File \u001b[0;32m/srv/conda/envs/notebook/lib/python3.9/site-packages/pandas/core/api.py:22\u001b[0m\n\u001b[1;32m      9\u001b[0m \u001b[38;5;28;01mfrom\u001b[39;00m \u001b[38;5;21;01mpandas\u001b[39;00m\u001b[38;5;21;01m.\u001b[39;00m\u001b[38;5;21;01mcore\u001b[39;00m\u001b[38;5;21;01m.\u001b[39;00m\u001b[38;5;21;01mdtypes\u001b[39;00m\u001b[38;5;21;01m.\u001b[39;00m\u001b[38;5;21;01mdtypes\u001b[39;00m \u001b[38;5;28;01mimport\u001b[39;00m (\n\u001b[1;32m     10\u001b[0m     CategoricalDtype,\n\u001b[1;32m     11\u001b[0m     DatetimeTZDtype,\n\u001b[1;32m     12\u001b[0m     IntervalDtype,\n\u001b[1;32m     13\u001b[0m     PeriodDtype,\n\u001b[1;32m     14\u001b[0m )\n\u001b[1;32m     15\u001b[0m \u001b[38;5;28;01mfrom\u001b[39;00m \u001b[38;5;21;01mpandas\u001b[39;00m\u001b[38;5;21;01m.\u001b[39;00m\u001b[38;5;21;01mcore\u001b[39;00m\u001b[38;5;21;01m.\u001b[39;00m\u001b[38;5;21;01mdtypes\u001b[39;00m\u001b[38;5;21;01m.\u001b[39;00m\u001b[38;5;21;01mmissing\u001b[39;00m \u001b[38;5;28;01mimport\u001b[39;00m (\n\u001b[1;32m     16\u001b[0m     isna,\n\u001b[1;32m     17\u001b[0m     isnull,\n\u001b[1;32m     18\u001b[0m     notna,\n\u001b[1;32m     19\u001b[0m     notnull,\n\u001b[1;32m     20\u001b[0m )\n\u001b[0;32m---> 22\u001b[0m \u001b[38;5;28;01mfrom\u001b[39;00m \u001b[38;5;21;01mpandas\u001b[39;00m\u001b[38;5;21;01m.\u001b[39;00m\u001b[38;5;21;01mcore\u001b[39;00m\u001b[38;5;21;01m.\u001b[39;00m\u001b[38;5;21;01malgorithms\u001b[39;00m \u001b[38;5;28;01mimport\u001b[39;00m (\n\u001b[1;32m     23\u001b[0m     factorize,\n\u001b[1;32m     24\u001b[0m     unique,\n\u001b[1;32m     25\u001b[0m     value_counts,\n\u001b[1;32m     26\u001b[0m )\n\u001b[1;32m     27\u001b[0m \u001b[38;5;28;01mfrom\u001b[39;00m \u001b[38;5;21;01mpandas\u001b[39;00m\u001b[38;5;21;01m.\u001b[39;00m\u001b[38;5;21;01mcore\u001b[39;00m\u001b[38;5;21;01m.\u001b[39;00m\u001b[38;5;21;01marrays\u001b[39;00m \u001b[38;5;28;01mimport\u001b[39;00m Categorical\n\u001b[1;32m     28\u001b[0m \u001b[38;5;28;01mfrom\u001b[39;00m \u001b[38;5;21;01mpandas\u001b[39;00m\u001b[38;5;21;01m.\u001b[39;00m\u001b[38;5;21;01mcore\u001b[39;00m\u001b[38;5;21;01m.\u001b[39;00m\u001b[38;5;21;01marrays\u001b[39;00m\u001b[38;5;21;01m.\u001b[39;00m\u001b[38;5;21;01marrow\u001b[39;00m \u001b[38;5;28;01mimport\u001b[39;00m ArrowDtype\n",
      "File \u001b[0;32m/srv/conda/envs/notebook/lib/python3.9/site-packages/pandas/core/algorithms.py:40\u001b[0m\n\u001b[1;32m     37\u001b[0m \u001b[38;5;28;01mfrom\u001b[39;00m \u001b[38;5;21;01mpandas\u001b[39;00m\u001b[38;5;21;01m.\u001b[39;00m\u001b[38;5;21;01mutil\u001b[39;00m\u001b[38;5;21;01m.\u001b[39;00m\u001b[38;5;21;01m_decorators\u001b[39;00m \u001b[38;5;28;01mimport\u001b[39;00m doc\n\u001b[1;32m     38\u001b[0m \u001b[38;5;28;01mfrom\u001b[39;00m \u001b[38;5;21;01mpandas\u001b[39;00m\u001b[38;5;21;01m.\u001b[39;00m\u001b[38;5;21;01mutil\u001b[39;00m\u001b[38;5;21;01m.\u001b[39;00m\u001b[38;5;21;01m_exceptions\u001b[39;00m \u001b[38;5;28;01mimport\u001b[39;00m find_stack_level\n\u001b[0;32m---> 40\u001b[0m \u001b[38;5;28;01mfrom\u001b[39;00m \u001b[38;5;21;01mpandas\u001b[39;00m\u001b[38;5;21;01m.\u001b[39;00m\u001b[38;5;21;01mcore\u001b[39;00m\u001b[38;5;21;01m.\u001b[39;00m\u001b[38;5;21;01mdtypes\u001b[39;00m\u001b[38;5;21;01m.\u001b[39;00m\u001b[38;5;21;01mcast\u001b[39;00m \u001b[38;5;28;01mimport\u001b[39;00m (\n\u001b[1;32m     41\u001b[0m     construct_1d_object_array_from_listlike,\n\u001b[1;32m     42\u001b[0m     infer_dtype_from_array,\n\u001b[1;32m     43\u001b[0m     sanitize_to_nanoseconds,\n\u001b[1;32m     44\u001b[0m )\n\u001b[1;32m     45\u001b[0m \u001b[38;5;28;01mfrom\u001b[39;00m \u001b[38;5;21;01mpandas\u001b[39;00m\u001b[38;5;21;01m.\u001b[39;00m\u001b[38;5;21;01mcore\u001b[39;00m\u001b[38;5;21;01m.\u001b[39;00m\u001b[38;5;21;01mdtypes\u001b[39;00m\u001b[38;5;21;01m.\u001b[39;00m\u001b[38;5;21;01mcommon\u001b[39;00m \u001b[38;5;28;01mimport\u001b[39;00m (\n\u001b[1;32m     46\u001b[0m     ensure_float64,\n\u001b[1;32m     47\u001b[0m     ensure_object,\n\u001b[0;32m   (...)\u001b[0m\n\u001b[1;32m     64\u001b[0m     needs_i8_conversion,\n\u001b[1;32m     65\u001b[0m )\n\u001b[1;32m     66\u001b[0m \u001b[38;5;28;01mfrom\u001b[39;00m \u001b[38;5;21;01mpandas\u001b[39;00m\u001b[38;5;21;01m.\u001b[39;00m\u001b[38;5;21;01mcore\u001b[39;00m\u001b[38;5;21;01m.\u001b[39;00m\u001b[38;5;21;01mdtypes\u001b[39;00m\u001b[38;5;21;01m.\u001b[39;00m\u001b[38;5;21;01mconcat\u001b[39;00m \u001b[38;5;28;01mimport\u001b[39;00m concat_compat\n",
      "File \u001b[0;32m/srv/conda/envs/notebook/lib/python3.9/site-packages/pandas/core/dtypes/cast.py:23\u001b[0m\n\u001b[1;32m     13\u001b[0m \u001b[38;5;28;01mfrom\u001b[39;00m \u001b[38;5;21;01mtyping\u001b[39;00m \u001b[38;5;28;01mimport\u001b[39;00m (\n\u001b[1;32m     14\u001b[0m     TYPE_CHECKING,\n\u001b[1;32m     15\u001b[0m     Any,\n\u001b[0;32m   (...)\u001b[0m\n\u001b[1;32m     19\u001b[0m     overload,\n\u001b[1;32m     20\u001b[0m )\n\u001b[1;32m     21\u001b[0m \u001b[38;5;28;01mimport\u001b[39;00m \u001b[38;5;21;01mwarnings\u001b[39;00m\n\u001b[0;32m---> 23\u001b[0m \u001b[38;5;28;01mfrom\u001b[39;00m \u001b[38;5;21;01mdateutil\u001b[39;00m\u001b[38;5;21;01m.\u001b[39;00m\u001b[38;5;21;01mparser\u001b[39;00m \u001b[38;5;28;01mimport\u001b[39;00m ParserError\n\u001b[1;32m     24\u001b[0m \u001b[38;5;28;01mimport\u001b[39;00m \u001b[38;5;21;01mnumpy\u001b[39;00m \u001b[38;5;28;01mas\u001b[39;00m \u001b[38;5;21;01mnp\u001b[39;00m\n\u001b[1;32m     26\u001b[0m \u001b[38;5;28;01mfrom\u001b[39;00m \u001b[38;5;21;01mpandas\u001b[39;00m\u001b[38;5;21;01m.\u001b[39;00m\u001b[38;5;21;01m_libs\u001b[39;00m \u001b[38;5;28;01mimport\u001b[39;00m lib\n",
      "\u001b[0;31mImportError\u001b[0m: cannot import name 'ParserError' from 'dateutil.parser' (/srv/conda/envs/notebook/lib/python3.9/site-packages/dateutil/parser/__init__.py)"
     ]
    }
   ],
   "source": [
    "# Imports needed from LP DAAC tutorial:\n",
    "\n",
    "from shapely.geometry import Point\n",
    "import json\n",
    "import geopandas\n",
    "import rasterio as rio\n",
    "import rioxarray\n",
    "import os\n",
    "from pystac_client import Client \n",
    "import hvplot.xarray\n",
    "\n",
    "# Imports needed from VEDA tutorial (https://nasa-impact.github.io/veda-docs/example-notebooks/open-and-plot.html):\n",
    "from pystac_client import Client\n",
    "import xarray as xr\n",
    "\n",
    "import hvplot.xarray  # noqa\n",
    "\n",
    "#Imports needed from Harmony\n",
    "# Using PySTAC\n",
    "from urllib.parse import urlparse\n",
    "import requests\n",
    "#from pystac import STAC_IO\n",
    "from pystac import Catalog\n",
    "# Using intake\n",
    "import intake\n"
   ]
  },
  {
   "cell_type": "markdown",
   "id": "94abe1b6-4415-4423-b8ef-fb28a9fe222c",
   "metadata": {},
   "source": [
    "### Set geometry for spatial search:"
   ]
  },
  {
   "cell_type": "code",
   "execution_count": 22,
   "id": "8a60554c-48fe-4f30-924c-12ac79ed21d8",
   "metadata": {
    "tags": []
   },
   "outputs": [
    {
     "data": {
      "text/plain": [
       "{'type': 'Polygon',\n",
       " 'coordinates': [[[-101.67271614074707, 41.04754380304359],\n",
       "   [-101.65344715118408, 41.04754380304359],\n",
       "   [-101.65344715118408, 41.06213891056728],\n",
       "   [-101.67271614074707, 41.06213891056728],\n",
       "   [-101.67271614074707, 41.04754380304359]]]}"
      ]
     },
     "execution_count": 22,
     "metadata": {},
     "output_type": "execute_result"
    }
   ],
   "source": [
    "field = geopandas.read_file('./data/ne_w_agfields.geojson')\n",
    "roi = json.loads(field.to_json())['features'][0]['geometry']\n",
    "roi"
   ]
  },
  {
   "cell_type": "code",
   "execution_count": 30,
   "id": "37d21550-e777-428a-af6f-f8917cdf2c97",
   "metadata": {
    "tags": []
   },
   "outputs": [
    {
     "data": {
      "text/plain": [
       "2001869"
      ]
     },
     "execution_count": 30,
     "metadata": {},
     "output_type": "execute_result"
    }
   ],
   "source": [
    "STAC_URL = 'https://cmr.earthdata.nasa.gov/stac'\n",
    "catalog = Client.open(f'{STAC_URL}/LPCLOUD/')\n",
    "\n",
    "#New version of CMR (CMR-1.217.0-r23.1.1) deployed 2/22 now requires concept-id, not shortname. I still can't get this to work using collection-id however:\n",
    "# HLSL30.v2.0 --> C2021957657-LPCLOUD\n",
    "# HLSS30.v2.0 --> C2021957295-LPCLOUD\n",
    "search = catalog.search(\n",
    "    collections = \"C2021957657-LPCLOUD\",\n",
    "#    collections = [\"HLSL30.v2.0\"],\n",
    "#    intersects = roi,\n",
    "    datetime = '2021-05/2021-08'\n",
    ")               \n",
    "search.matched()"
   ]
  },
  {
   "cell_type": "code",
   "execution_count": 31,
   "id": "e9b50d4b-1a7b-4844-bc1a-216f308d44fe",
   "metadata": {
    "tags": []
   },
   "outputs": [
    {
     "name": "stdout",
     "output_type": "stream",
     "text": [
      "<Item id=G2484151012-LPCLOUD>\n"
     ]
    },
    {
     "data": {
      "text/plain": [
       "{'data': <Asset href=https://data.lpdaac.earthdatacloud.nasa.gov/lp-prod-protected/MCD12C1.061/MCD12C1.A2021001.061.2022217040006/MCD12C1.A2021001.061.2022217040006.hdf>,\n",
       " 'provider_metadata': <Asset href=https://data.lpdaac.earthdatacloud.nasa.gov/lp-prod-protected/MCD12C1.061/MCD12C1.A2021001.061.2022217040006/MCD12C1.A2021001.061.2022217040006.cmr.xml>,\n",
       " 'metadata': <Asset href=https://cmr.earthdata.nasa.gov/search/concepts/G2484151012-LPCLOUD.json>}"
      ]
     },
     "execution_count": 31,
     "metadata": {},
     "output_type": "execute_result"
    }
   ],
   "source": [
    "items = search.get_all_items()\n",
    "print(items[0])\n",
    "items[0].assets\n",
    "# data_url = items[0].assets['B04'].href\n",
    "# data_url"
   ]
  },
  {
   "cell_type": "code",
   "execution_count": null,
   "id": "b9d30505-16d9-4836-bf1d-a3e0e8635588",
   "metadata": {},
   "outputs": [],
   "source": [
    "# #We can do this with the latest version of earthaccess so that we don't have to use the GDAL driver code below. But, this needs to be tested first:  \n",
    "\n",
    "# import earthaccess\n",
    "\n",
    "# da = xr.open_mfdataset(earthaccess.open([data_url]), engine=\"rasterio\")\n",
    "# da = da.squeeze(\"band\", drop=True)\n",
    "# da"
   ]
  },
  {
   "cell_type": "code",
   "execution_count": null,
   "id": "b458fa6a-2d4b-446e-b7cb-5d3f3345917e",
   "metadata": {
    "tags": []
   },
   "outputs": [],
   "source": [
    "rio_env = rio.Env(GDAL_DISABLE_READDIR_ON_OPEN='EMPTY',\n",
    "                  GDAL_HTTP_COOKIEFILE=os.path.expanduser('~/cookies.txt'),\n",
    "                  GDAL_HTTP_COOKIEJAR=os.path.expanduser('~/cookies.txt'))\n",
    "rio_env.__enter__()"
   ]
  },
  {
   "cell_type": "code",
   "execution_count": null,
   "id": "bded01cc-fcd1-42e9-9573-58a44ee14343",
   "metadata": {
    "tags": []
   },
   "outputs": [],
   "source": [
    "da = rioxarray.open_rasterio(data_url)\n",
    "da = da.squeeze('band', drop=True)\n",
    "da"
   ]
  },
  {
   "cell_type": "code",
   "execution_count": null,
   "id": "053b2733-32e0-422b-9096-17ac7e39bfb7",
   "metadata": {
    "tags": []
   },
   "outputs": [],
   "source": [
    "da.hvplot.image(x='x', y='y', cmap='fire', rasterize=True, width=800, height=600, colorbar=True)    # colormaps -> https://holoviews.org/user_guide/Colormaps.html"
   ]
  },
  {
   "cell_type": "markdown",
   "id": "9c19c8ac-a6f8-4357-b944-cc241d53ed3d",
   "metadata": {
    "tags": []
   },
   "source": [
    "## 3. VEDA Example\n"
   ]
  },
  {
   "cell_type": "code",
   "execution_count": 35,
   "id": "6ddd6112-8fb6-4c57-8689-b9c4817c9ebf",
   "metadata": {},
   "outputs": [],
   "source": [
    "STAC_API_URL = \"https://staging-stac.delta-backend.com/\"\n",
    "collection = \"social-vulnerability-index-overall-nopop\""
   ]
  },
  {
   "cell_type": "code",
   "execution_count": 37,
   "id": "fd41ffc0-5b55-4b91-90e3-e7300c52cb8b",
   "metadata": {},
   "outputs": [
    {
     "data": {
      "text/html": [
       "\n",
       "\n",
       "<div class=\"jp-RenderedHTMLCommon jp-RenderedHTML jp-mod-trusted jp-OutputArea-output\">\n",
       "    <div style=\"\n",
       "        width: 24px;\n",
       "        height: 24px;\n",
       "        background-color: #DBF5FF;\n",
       "        border: 3px solid #4CC9FF;\n",
       "        border-radius: 5px;\n",
       "        position: absolute;\">\n",
       "    </div>\n",
       "    <div>\n",
       "        <details style=\"margin-left: 48px;\">\n",
       "            <summary style=\"margin-bottom: 20px;\">\n",
       "                <h3 style=\"margin-bottom: 0px; display: inline;\">Item: svi_2018_tract_overall_wgs84_nopop_cog</h3>\n",
       "            </summary>\n",
       "            <table style=\"width: 100%; text-align: left;\">\n",
       "                <tr><td style=\"text-align: left;\"><strong>ID</strong>: svi_2018_tract_overall_wgs84_nopop_cog </td></tr>\n",
       "                \n",
       "                \n",
       "                    <tr><td style=\"text-align: left;\"><strong>Bounding Box:</strong> [-178.23333334, 18.908332897999998, -66.958333785, 71.383332688] </td></tr>\n",
       "                \n",
       "                \n",
       "                \n",
       "                    \n",
       "                        <tr><td style=\"text-align: left;\"><strong>proj:bbox:</strong> [-178.23333334, 18.908332897999998, -66.958333785, 71.383332688] </td></tr>\n",
       "                    \n",
       "                        <tr><td style=\"text-align: left;\"><strong>proj:epsg:</strong> 4326.0 </td></tr>\n",
       "                    \n",
       "                        <tr><td style=\"text-align: left;\"><strong>proj:shape:</strong> [6297.0, 13353.0] </td></tr>\n",
       "                    \n",
       "                        <tr><td style=\"text-align: left;\"><strong>end_datetime:</strong> 2018-12-31T00:00:00 </td></tr>\n",
       "                    \n",
       "                        <tr><td style=\"text-align: left;\"><strong>proj:geometry:</strong> {'type': 'Polygon', 'coordinates': [[[-178.23333334, 18.908332897999998], [-66.958333785, 18.908332897999998], [-66.958333785, 71.383332688], [-178.23333334, 71.383332688], [-178.23333334, 18.908332897999998]]]} </td></tr>\n",
       "                    \n",
       "                        <tr><td style=\"text-align: left;\"><strong>proj:transform:</strong> [0.00833333330000749, 0.0, -178.23333334, 0.0, -0.00833333329998412, 71.383332688, 0.0, 0.0, 1.0] </td></tr>\n",
       "                    \n",
       "                        <tr><td style=\"text-align: left;\"><strong>start_datetime:</strong> 2018-01-01T00:00:00 </td></tr>\n",
       "                    \n",
       "                \n",
       "                \n",
       "        \n",
       "            <tr><td style=\"text-align: left;\"><strong>stac_extensions:</strong> ['https://stac-extensions.github.io/projection/v1.0.0/schema.json', 'https://stac-extensions.github.io/raster/v1.1.0/schema.json'] </td></tr>\n",
       "        \n",
       "    \n",
       "            </table>\n",
       "            \n",
       "        <details>\n",
       "            <summary style=\"margin-bottom: 10px; margin-top: 10px;\">\n",
       "                <h4 style=\"margin-bottom: 0px; display: inline;\">STAC Extensions</h4>\n",
       "            </summary>\n",
       "            <table style=\"width: 100%; text-align: left;\">\n",
       "                \n",
       "                    <tr><td style=\"text-align: left;\"><a href=\"https://stac-extensions.github.io/projection/v1.0.0/schema.json\">https://stac-extensions.github.io/projection/v1.0.0/schema.json</a></td></tr>\n",
       "                \n",
       "                    <tr><td style=\"text-align: left;\"><a href=\"https://stac-extensions.github.io/raster/v1.1.0/schema.json\">https://stac-extensions.github.io/raster/v1.1.0/schema.json</a></td></tr>\n",
       "                \n",
       "            </table>\n",
       "        </details>\n",
       "    \n",
       "            \n",
       "        <details>\n",
       "            <summary style=\"margin-bottom: 10px; margin-top: 10px;\">\n",
       "                <h4 style=\"margin-bottom: 0px; display: inline;\">Assets</h4>\n",
       "            </summary>\n",
       "            \n",
       "                \n",
       "\n",
       "<div class=\"jp-RenderedHTMLCommon jp-RenderedHTML jp-mod-trusted jp-OutputArea-output\">\n",
       "    <div style=\"\n",
       "        width: 24px;\n",
       "        height: 24px;\n",
       "        background-color: #FED7E5;\n",
       "        border: 3px solid #FA4C8C;\n",
       "        border-radius: 5px;\n",
       "        position: absolute;\">\n",
       "    </div>\n",
       "    <div>\n",
       "        <details style=\"margin-left: 48px;\">\n",
       "            <summary style=\"margin-bottom: 20px;\">\n",
       "                <h3 style=\"margin-bottom: 0px; display: inline;\">Asset: Default COG Layer</h3>\n",
       "            </summary>\n",
       "            <table style=\"width: 100%; text-align: left;\">\n",
       "                <tr><td style=\"text-align: left;\"><strong>href</strong>: s3://veda-data-store-staging/social-vulnerability-index-overall-nopop/svi_2018_tract_overall_wgs84_nopop_cog.tif </td></tr>\n",
       "                \n",
       "                    <tr><td style=\"text-align: left;\"><strong>Title:</strong> Default COG Layer </td></tr>\n",
       "                \n",
       "                \n",
       "                    <tr><td style=\"text-align: left;\"><strong>Description:</strong> Cloud optimized default layer to display on map </td></tr>\n",
       "                \n",
       "                \n",
       "                    <tr><td style=\"text-align: left;\"><strong>Media type:</strong> image/tiff; application=geotiff; profile=cloud-optimized </td></tr>\n",
       "                \n",
       "                \n",
       "                    <tr><td style=\"text-align: left;\"><strong>Roles:</strong> ['data', 'layer'] </td></tr>\n",
       "                \n",
       "                \n",
       "                    <tr><td style=\"text-align: left;\"><strong>Owner:</strong>  </td></tr>\n",
       "                \n",
       "                \n",
       "        \n",
       "            <tr><td style=\"text-align: left;\"><strong>raster:bands:</strong> [{'scale': 1.0, 'nodata': -3.3999999521443642e+38, 'offset': 0.0, 'sampling': 'area', 'data_type': 'float32', 'histogram': {'max': 0.9998000264167786, 'min': 0.0, 'count': 11.0, 'buckets': [2760.0, 4927.0, 6770.0, 6962.0, 7015.0, 7595.0, 6791.0, 5678.0, 4035.0, 4222.0]}, 'statistics': {'mean': 0.5012285192383931, 'stddev': 0.2507121200411164, 'maximum': 0.9998000264167786, 'minimum': 0.0, 'valid_percent': 11.475114842132506}}] </td></tr>\n",
       "        \n",
       "    \n",
       "            </table>\n",
       "        </details>\n",
       "    </div>\n",
       "</div>\n",
       "            \n",
       "        </details>\n",
       "    \n",
       "            \n",
       "        <details>\n",
       "            <summary style=\"margin-bottom: 10px; margin-top: 10px\">\n",
       "                <h4 style=\"margin-bottom: 0px; display: inline;\">Links</h4>\n",
       "            </summary>\n",
       "            \n",
       "                \n",
       "\n",
       "<div class=\"jp-RenderedHTMLCommon jp-RenderedHTML jp-mod-trusted jp-OutputArea-output\">\n",
       "    <div style=\"\n",
       "        width: 24px;\n",
       "        height: 24px;\n",
       "        background-color: #FFF7E5;\n",
       "        border: 3px solid #FF6132;\n",
       "        border-radius: 5px;\n",
       "        position: absolute;\">\n",
       "    </div>\n",
       "    <div style=\"margin-left: 48px;\">\n",
       "        <h4 style=\"margin-bottom: 0px;\">Link: </h4>\n",
       "        \n",
       "        <table style=\"width: 100%; text-align: left;\">\n",
       "            <tr><td style=\"text-align: left;\"><strong>Rel:</strong> collection </td></tr>\n",
       "            <tr><td style=\"text-align: left;\"><strong>Target:</strong> https://staging-stac.delta-backend.com/collections/social-vulnerability-index-overall-nopop </td></tr>\n",
       "            \n",
       "                <tr><td style=\"text-align: left;\"><strong>Media Type:</strong> application/json </td></tr>\n",
       "            \n",
       "            \n",
       "        </table>\n",
       "        \n",
       "    </div>\n",
       "</div>\n",
       "            \n",
       "                \n",
       "\n",
       "<div class=\"jp-RenderedHTMLCommon jp-RenderedHTML jp-mod-trusted jp-OutputArea-output\">\n",
       "    <div style=\"\n",
       "        width: 24px;\n",
       "        height: 24px;\n",
       "        background-color: #FFF7E5;\n",
       "        border: 3px solid #FF6132;\n",
       "        border-radius: 5px;\n",
       "        position: absolute;\">\n",
       "    </div>\n",
       "    <div style=\"margin-left: 48px;\">\n",
       "        <h4 style=\"margin-bottom: 0px;\">Link: </h4>\n",
       "        \n",
       "        <table style=\"width: 100%; text-align: left;\">\n",
       "            <tr><td style=\"text-align: left;\"><strong>Rel:</strong> parent </td></tr>\n",
       "            <tr><td style=\"text-align: left;\"><strong>Target:</strong> https://staging-stac.delta-backend.com/collections/social-vulnerability-index-overall-nopop </td></tr>\n",
       "            \n",
       "                <tr><td style=\"text-align: left;\"><strong>Media Type:</strong> application/json </td></tr>\n",
       "            \n",
       "            \n",
       "        </table>\n",
       "        \n",
       "    </div>\n",
       "</div>\n",
       "            \n",
       "                \n",
       "\n",
       "<div class=\"jp-RenderedHTMLCommon jp-RenderedHTML jp-mod-trusted jp-OutputArea-output\">\n",
       "    <div style=\"\n",
       "        width: 24px;\n",
       "        height: 24px;\n",
       "        background-color: #FFF7E5;\n",
       "        border: 3px solid #FF6132;\n",
       "        border-radius: 5px;\n",
       "        position: absolute;\">\n",
       "    </div>\n",
       "    <div style=\"margin-left: 48px;\">\n",
       "        <h4 style=\"margin-bottom: 0px;\">Link: </h4>\n",
       "        \n",
       "            <p style=\"color: #9D9D9D; margin-bottom: 0px;\">veda-stac</p>\n",
       "        \n",
       "        <table style=\"width: 100%; text-align: left;\">\n",
       "            <tr><td style=\"text-align: left;\"><strong>Rel:</strong> root </td></tr>\n",
       "            <tr><td style=\"text-align: left;\"><strong>Target:</strong> <Client id=stac-fastapi> </td></tr>\n",
       "            \n",
       "                <tr><td style=\"text-align: left;\"><strong>Media Type:</strong> application/json </td></tr>\n",
       "            \n",
       "            \n",
       "        </table>\n",
       "        \n",
       "    </div>\n",
       "</div>\n",
       "            \n",
       "                \n",
       "\n",
       "<div class=\"jp-RenderedHTMLCommon jp-RenderedHTML jp-mod-trusted jp-OutputArea-output\">\n",
       "    <div style=\"\n",
       "        width: 24px;\n",
       "        height: 24px;\n",
       "        background-color: #FFF7E5;\n",
       "        border: 3px solid #FF6132;\n",
       "        border-radius: 5px;\n",
       "        position: absolute;\">\n",
       "    </div>\n",
       "    <div style=\"margin-left: 48px;\">\n",
       "        <h4 style=\"margin-bottom: 0px;\">Link: </h4>\n",
       "        \n",
       "        <table style=\"width: 100%; text-align: left;\">\n",
       "            <tr><td style=\"text-align: left;\"><strong>Rel:</strong> self </td></tr>\n",
       "            <tr><td style=\"text-align: left;\"><strong>Target:</strong> https://staging-stac.delta-backend.com/collections/social-vulnerability-index-overall-nopop/items/svi_2018_tract_overall_wgs84_nopop_cog </td></tr>\n",
       "            \n",
       "                <tr><td style=\"text-align: left;\"><strong>Media Type:</strong> application/geo+json </td></tr>\n",
       "            \n",
       "            \n",
       "        </table>\n",
       "        \n",
       "    </div>\n",
       "</div>\n",
       "            \n",
       "        </details>\n",
       "    \n",
       "        </details>\n",
       "    </div>\n",
       "</div>"
      ],
      "text/plain": [
       "<Item id=svi_2018_tract_overall_wgs84_nopop_cog>"
      ]
     },
     "execution_count": 37,
     "metadata": {},
     "output_type": "execute_result"
    }
   ],
   "source": [
    "search = Client.open(STAC_API_URL).search(collections=[collection])\n",
    "items = list(search.items())\n",
    "items[0]"
   ]
  },
  {
   "cell_type": "code",
   "execution_count": 39,
   "id": "555d149f-074a-4b9b-91e8-75250c526f90",
   "metadata": {
    "tags": []
   },
   "outputs": [
    {
     "name": "stdout",
     "output_type": "stream",
     "text": [
      "s3://veda-data-store-staging/social-vulnerability-index-overall-nopop/svi_2018_tract_overall_wgs84_nopop_cog.tif\n"
     ]
    }
   ],
   "source": [
    "s3_link = items[0].assets['cog_default'].href\n",
    "print(s3_link)\n",
    "\n",
    "# #I dont have access yet to the data:\n",
    "# da = xr.open_dataset(s3_link, engine=\"rasterio\")\n",
    "# da = da.squeeze(\"band\", drop=True)\n",
    "# da"
   ]
  },
  {
   "cell_type": "markdown",
   "id": "14d3b8aa-7ebf-45b9-a66b-1962cb4cae13",
   "metadata": {},
   "source": [
    "## 4. Harmony Example"
   ]
  },
  {
   "cell_type": "code",
   "execution_count": 41,
   "id": "58114387-f6a4-49db-b861-15b08249d95b",
   "metadata": {
    "collapsed": true,
    "jupyter": {
     "outputs_hidden": true
    },
    "tags": []
   },
   "outputs": [
    {
     "name": "stdout",
     "output_type": "stream",
     "text": [
      "Collecting harmony-py\n",
      "  Using cached harmony_py-0.4.4-py3-none-any.whl (23 kB)\n",
      "Collecting python-dateutil~=2.7.5\n",
      "  Using cached python_dateutil-2.7.5-py2.py3-none-any.whl (225 kB)\n",
      "Collecting sphinxcontrib-napoleon>=0.7\n",
      "  Using cached sphinxcontrib_napoleon-0.7-py2.py3-none-any.whl (17 kB)\n",
      "Collecting python-dotenv~=0.1\n",
      "  Using cached python_dotenv-0.21.1-py3-none-any.whl (19 kB)\n",
      "Requirement already satisfied: requests~=2.2 in /srv/conda/envs/notebook/lib/python3.9/site-packages (from harmony-py) (2.28.2)\n",
      "Collecting curlify~=2.2\n",
      "  Using cached curlify-2.2.1-py3-none-any.whl\n",
      "Collecting progressbar2~=3.5\n",
      "  Using cached progressbar2-3.55.0-py2.py3-none-any.whl (26 kB)\n",
      "Requirement already satisfied: six in /srv/conda/envs/notebook/lib/python3.9/site-packages (from progressbar2~=3.5->harmony-py) (1.16.0)\n",
      "Collecting python-utils>=2.3.0\n",
      "  Using cached python_utils-3.5.2-py2.py3-none-any.whl (24 kB)\n",
      "Requirement already satisfied: charset-normalizer<4,>=2 in /srv/conda/envs/notebook/lib/python3.9/site-packages (from requests~=2.2->harmony-py) (2.1.1)\n",
      "Requirement already satisfied: certifi>=2017.4.17 in /srv/conda/envs/notebook/lib/python3.9/site-packages (from requests~=2.2->harmony-py) (2022.12.7)\n",
      "Requirement already satisfied: urllib3<1.27,>=1.21.1 in /srv/conda/envs/notebook/lib/python3.9/site-packages (from requests~=2.2->harmony-py) (1.26.14)\n",
      "Requirement already satisfied: idna<4,>=2.5 in /srv/conda/envs/notebook/lib/python3.9/site-packages (from requests~=2.2->harmony-py) (3.4)\n",
      "Collecting pockets>=0.3\n",
      "  Using cached pockets-0.9.1-py2.py3-none-any.whl (26 kB)\n",
      "Installing collected packages: python-utils, python-dotenv, python-dateutil, pockets, sphinxcontrib-napoleon, progressbar2, curlify, harmony-py\n",
      "  Attempting uninstall: python-dateutil\n",
      "    Found existing installation: python-dateutil 2.8.2\n",
      "    Uninstalling python-dateutil-2.8.2:\n",
      "      Successfully uninstalled python-dateutil-2.8.2\n",
      "\u001b[31mERROR: pip's dependency resolver does not currently take into account all the packages that are installed. This behaviour is the source of the following dependency conflicts.\n",
      "python-benedict 0.26.0 requires python-dateutil<3.0.0,>=2.8.0, but you have python-dateutil 2.7.5 which is incompatible.\n",
      "pandas 1.5.3 requires python-dateutil>=2.8.1, but you have python-dateutil 2.7.5 which is incompatible.\n",
      "jupyter-client 7.4.9 requires python-dateutil>=2.8.2, but you have python-dateutil 2.7.5 which is incompatible.\u001b[0m\u001b[31m\n",
      "\u001b[0mSuccessfully installed curlify-2.2.1 harmony-py-0.4.4 pockets-0.9.1 progressbar2-3.55.0 python-dateutil-2.7.5 python-dotenv-0.21.1 python-utils-3.5.2 sphinxcontrib-napoleon-0.7\n"
     ]
    }
   ],
   "source": [
    "import sys\n",
    "!{sys.executable} -m pip install -U harmony-py"
   ]
  },
  {
   "cell_type": "markdown",
   "id": "76e9e075-54b5-4529-aece-ede26cf962ad",
   "metadata": {},
   "source": [
    "Now need to restart kernel"
   ]
  },
  {
   "cell_type": "code",
   "execution_count": 1,
   "id": "41b71d46-b21c-4c06-9e0b-1b8e5bcfe7bc",
   "metadata": {},
   "outputs": [],
   "source": [
    "from harmony import BBox, Client, Collection, Request\n",
    "from harmony.config import Environment\n",
    "import datetime as dt\n",
    "\n",
    "import intake"
   ]
  },
  {
   "cell_type": "code",
   "execution_count": 3,
   "id": "700cb295-8feb-45d3-9db4-14c41ae34809",
   "metadata": {},
   "outputs": [],
   "source": [
    "harmony_client = Client() # assumes .netrc usage, option 3 above"
   ]
  },
  {
   "cell_type": "code",
   "execution_count": 4,
   "id": "7e713b30-76dc-4d39-918b-4794de528c13",
   "metadata": {},
   "outputs": [],
   "source": [
    "shapefile_path = './data/Big_Island_0005.zip' \n",
    "\n",
    "request = Request(\n",
    "    collection=Collection(id='SENTINEL-1_INTERFEROGRAMS'),\n",
    "    #spatial=BBox(-155.75, 19.26, -155.3, 19.94), # bounding box example that can be used as an alternative to shapefile input\n",
    "    shape=shapefile_path,\n",
    "    temporal={\n",
    "        'start': dt.datetime(2020, 2, 24),\n",
    "        'stop': dt.datetime(2020, 2, 25),\n",
    "    },\n",
    "    variables=['science/grids/data/unwrappedPhase'],\n",
    "    format='image/tiff',\n",
    "    max_results=2,\n",
    ")"
   ]
  },
  {
   "cell_type": "code",
   "execution_count": 5,
   "id": "8c94bca5-62a7-4b62-b571-e8ec72aede02",
   "metadata": {},
   "outputs": [
    {
     "data": {
      "text/plain": [
       "'111892c1-1f95-4be4-b278-031c41564a5c'"
      ]
     },
     "execution_count": 5,
     "metadata": {},
     "output_type": "execute_result"
    }
   ],
   "source": [
    "job_id = harmony_client.submit(request)\n",
    "job_id"
   ]
  },
  {
   "cell_type": "code",
   "execution_count": 6,
   "id": "41f56355-2888-4134-80d1-af6c78fe7038",
   "metadata": {},
   "outputs": [
    {
     "name": "stdout",
     "output_type": "stream",
     "text": [
      "{'status': 'running', 'message': 'CMR query identified 10 granules, but the request has been limited to process only the first 2 granules because you requested 2 maxResults.', 'progress': 0, 'created_at': datetime.datetime(2023, 2, 23, 1, 44, 3, 648000, tzinfo=tzlocal()), 'updated_at': datetime.datetime(2023, 2, 23, 1, 44, 3, 648000, tzinfo=tzlocal()), 'created_at_local': '2023-02-23T01:44:03+00:00', 'updated_at_local': '2023-02-23T01:44:03+00:00', 'data_expiration': datetime.datetime(2023, 3, 25, 1, 44, 3, 648000, tzinfo=tzlocal()), 'data_expiration_local': '2023-03-25T01:44:03+00:00', 'request': 'https://harmony.earthdata.nasa.gov/SENTINEL-1_INTERFEROGRAMS/ogc-api-coverages/1.0.0/collections/science%2Fgrids%2Fdata%2FunwrappedPhase/coverage/rangeset?forceAsync=true&subset=time(%222020-02-24T00%3A00%3A00%22%3A%222020-02-25T00%3A00%3A00%22)&format=image%2Ftiff&maxResults=2', 'num_input_granules': 2}\n"
     ]
    },
    {
     "name": "stderr",
     "output_type": "stream",
     "text": [
      " [ Processing: 100% ] |###################################################| [|]\n"
     ]
    }
   ],
   "source": [
    "print(harmony_client.status(job_id))\n",
    "harmony_client.wait_for_processing(job_id, show_progress=True)"
   ]
  },
  {
   "cell_type": "code",
   "execution_count": null,
   "id": "6224b8b0-8ec2-429b-84b7-5bb8cf5a0d9e",
   "metadata": {},
   "outputs": [],
   "source": [
    "# urls = harmony_client.result_urls(job_id)\n",
    "# list(urls)"
   ]
  },
  {
   "cell_type": "code",
   "execution_count": 8,
   "id": "c421f21d-0b2a-4b97-9db8-781d6334fbb1",
   "metadata": {},
   "outputs": [
    {
     "data": {
      "text/plain": [
       "'https://harmony.earthdata.nasa.gov/stac/111892c1-1f95-4be4-b278-031c41564a5c/?linktype=https'"
      ]
     },
     "execution_count": 8,
     "metadata": {},
     "output_type": "execute_result"
    }
   ],
   "source": [
    "stac_catalog_url = harmony_client.stac_catalog_url(job_id)\n",
    "stac_catalog_url"
   ]
  },
  {
   "cell_type": "markdown",
   "id": "38c7b2c3-29a6-40cd-bae8-d973c8b0e77f",
   "metadata": {},
   "source": [
    "Before trying to use the same CMR-STAC or VEDA workflow above, we need to understand how this STAC URL compares to CMR-STAC as far as the STAC spec: According to https://nasa-openscapes.github.io/2021-Cloud-Hackathon/tutorials/02_Data_Discovery_CMR-STAC_API.html:\n",
    "\n",
    "There are Four STAC Specifications:\n",
    "*STAC Catalog (aka DAAC Archive)\n",
    "*STAC Collection (aka Data Product)\n",
    "*STAC Item (aka Granule)\n",
    "*STAC API\n",
    "\n",
    "**Given that the Harmony STAC URL contains items, does this mean that this is technically a STAC Collection URL?**\n",
    "\n",
    "And according to:\n",
    "https://pystac-client.readthedocs.io/en/stable/tutorials/pystac-client-introduction.html\n",
    "\n",
    "\"If the Catalog is an API, we have the ability to search for items based on spatio-temporal properties.\"\n",
    "\n",
    "**So, we also need to confirm whether Harmony STAC endpoint is an API or not.** Based on the VEDA and CMR-STAC tutorials, those catalogs appear to be APIs as well. \n",
    "\n"
   ]
  },
  {
   "cell_type": "markdown",
   "id": "3962d5a1-adb8-47e5-a720-cc5e5b0d808b",
   "metadata": {},
   "source": [
    "### Now try the above CMR-STAC workflow:\n",
    "\n",
    "The commented line above gives me this error:\n",
    "\n",
    "```ClientTypeError: Could not open Client (href=https://harmony.earthdata.nasa.gov/stac/111892c1-1f95-4be4-b278-031c41564a5c/?linktype=https), expected type=Catalog, found type=None```"
   ]
  },
  {
   "cell_type": "code",
   "execution_count": 12,
   "id": "62078a2f-32df-4913-90b1-ca42c976a3f2",
   "metadata": {
    "tags": []
   },
   "outputs": [],
   "source": [
    "from pystac_client import Client \n",
    "#catalog = Client.open(stac_catalog_url)\n"
   ]
  },
  {
   "cell_type": "markdown",
   "id": "738fc81f-1107-46ff-ab00-c2466d0a3181",
   "metadata": {},
   "source": [
    "I had to modify the existing Harmony-py tutorial to update based on the current `pystac` documentation (commented line is the old code:"
   ]
  },
  {
   "cell_type": "code",
   "execution_count": 24,
   "id": "4871d6c5-e13a-476b-b2a1-41176f6a58c6",
   "metadata": {},
   "outputs": [],
   "source": [
    "from urllib.parse import urlparse\n",
    "import requests\n",
    "from pystac.stac_io import StacIO\n",
    "#from pystac import STAC_IO\n",
    "\n",
    "def requests_read_method(uri):\n",
    "    parsed = urlparse(uri)\n",
    "    if parsed.hostname.startswith('harmony.'):\n",
    "        return harmony_client.read_text(uri)\n",
    "    else:\n",
    "        return StacIO.default_read_text_method(uri)\n",
    "\n",
    "StacIO.read_text_method = requests_read_method"
   ]
  },
  {
   "cell_type": "markdown",
   "id": "31f652a4-eb60-4d26-bd45-9d2020b1580d",
   "metadata": {},
   "source": [
    "The next code block from the Harmony-py tutorial throws this error:\n",
    "\n",
    "```Exception: Could not read uri https://harmony.earthdata.nasa.gov/stac/111892c1-1f95-4be4-b278-031c41564a5c/?linktype=https"
   ]
  },
  {
   "cell_type": "code",
   "execution_count": 26,
   "id": "3fb2a56b-d579-4a33-a63e-43345b692e44",
   "metadata": {
    "tags": []
   },
   "outputs": [],
   "source": [
    "# from pystac import Catalog\n",
    "\n",
    "# cat = Catalog.from_file(stac_catalog_url)\n",
    "\n",
    "# print(cat.title)\n",
    "# s3_links = []\n",
    "# for item in cat.get_all_items():\n",
    "#     print(item.datetime, [asset.href for asset in item.assets.values()])\n",
    "#     s3_links.append([asset.href for asset in item.assets.values()])"
   ]
  },
  {
   "cell_type": "markdown",
   "id": "ee206e14-74e7-4d95-9e39-da43c0023d48",
   "metadata": {},
   "source": [
    "This recent Pangeo discourse post may be a hint, as Tom A. mentions that this could be a difference between the API and a static catalog: https://discourse.pangeo.io/t/pystac-client-cannot-load-stac-catalog/3071\n",
    "\n",
    "```import pystac\n",
    "pystac.read_file(\"https://meeo-s5p.s3.amazonaws.com/catalog.json\")```\n",
    "\n",
    "I get an error when I try with the Harmony URL:"
   ]
  },
  {
   "cell_type": "code",
   "execution_count": 28,
   "id": "ac1ee22f-c28f-4d7b-8b76-600b95d37e0a",
   "metadata": {},
   "outputs": [],
   "source": [
    "import pystac\n",
    "#pystac.read_file(stac_catalog_url)"
   ]
  },
  {
   "cell_type": "code",
   "execution_count": null,
   "id": "b0f872ae-244c-45bd-8f87-87035f2ff846",
   "metadata": {},
   "outputs": [],
   "source": []
  }
 ],
 "metadata": {
  "kernelspec": {
   "display_name": "Python 3 (ipykernel)",
   "language": "python",
   "name": "python3"
  },
  "language_info": {
   "codemirror_mode": {
    "name": "ipython",
    "version": 3
   },
   "file_extension": ".py",
   "mimetype": "text/x-python",
   "name": "python",
   "nbconvert_exporter": "python",
   "pygments_lexer": "ipython3",
   "version": "3.9.15"
  }
 },
 "nbformat": 4,
 "nbformat_minor": 5
}
