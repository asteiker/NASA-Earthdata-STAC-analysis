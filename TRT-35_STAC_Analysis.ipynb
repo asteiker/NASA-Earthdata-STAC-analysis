{
 "cells": [
  {
   "cell_type": "markdown",
   "id": "4eb13f66-01ca-45be-8a8c-8d87f2be848b",
   "metadata": {},
   "source": [
    "# TRT-35: Harmony STAC for Analysis Ready Data\n",
    "\n",
    "### Notebook goal\n",
    "\n",
    "Test a basic STAC catalog workflow from:\n",
    "  *  Harmony \n",
    "  * CMR-STAC \n",
    "  * VEDA endpoint\n",
    "  * External (e.g. Planetary Computer) STAC catalog?\n",
    "\n",
    "to determine:\n",
    "1. Interoperability with common stac libraries\n",
    "2. Feature parity vs gaps in functionality for Harmony\n",
    "3. Utility as input into VEDA workflow\n"
   ]
  },
  {
   "cell_type": "markdown",
   "id": "97362edb-74bb-4784-a79a-cac635ba82b1",
   "metadata": {},
   "source": [
    "## 1. Determine dataset/use case \n",
    "Resources: \n",
    "* https://nasa-openscapes.github.io/2021-Cloud-Hackathon/tutorials/02_Data_Discovery_CMR-STAC_API.html for CMR-STAC example\n",
    "* https://nasa-openscapes.github.io/earthdata-cloud-cookbook/examples/LPDAAC/Find_and_Access_HLS_PointBuffer.html for another CMR-STAC example\n",
    "* https://github.com/nasa/harmony-py/blob/main/examples/intro_tutorial.ipynb for Harmony STAC example\n",
    "* https://nasa-impact.github.io/veda-docs/ for VEDA examples\n",
    "* https://staging-stac.delta-backend.com/ : VEDA STAC API\n",
    "\n",
    "We can use HLS example for CMR-STAC and a COG output example from Harmony to control for file format."
   ]
  },
  {
   "cell_type": "markdown",
   "id": "9987ccab-d51e-418a-bec8-8a4b79e73c5c",
   "metadata": {},
   "source": [
    "## 2. CMR-STAC Example\n",
    "Copying from LP DAAC, VEDA, and Harmony tutorials above\n",
    "\n",
    "What are the common STAC library imports across the three?\n",
    "\n",
    "`from pystac_client import Client` is common across CMR-STAC and VEDA\n",
    "\n",
    "**Questions for stakholders:** \n",
    "1. What is best practice when it comes to using `pystac_client`? \n",
    "2. Is Harmony's use of `pystac` incorrect? From 2i2c Hub I get an error importing STAC_IO so it is commented out below\n",
    "3. Should we support both `pystac_client` and `intake`?"
   ]
  },
  {
   "cell_type": "code",
   "execution_count": null,
   "id": "afa841f9-c21f-4abd-9ec8-baf6aeef5192",
   "metadata": {
    "tags": []
   },
   "outputs": [],
   "source": [
    "# Imports needed from LP DAAC tutorial:\n",
    "\n",
    "from shapely.geometry import Point\n",
    "import json\n",
    "import geopandas\n",
    "import rasterio as rio\n",
    "import rioxarray\n",
    "import os\n",
    "from pystac_client import Client \n",
    "import hvplot.xarray\n",
    "\n",
    "# Imports needed from VEDA tutorial (https://nasa-impact.github.io/veda-docs/example-notebooks/open-and-plot.html):\n",
    "from pystac_client import Client\n",
    "import xarray as xr\n",
    "\n",
    "import hvplot.xarray  # noqa\n",
    "\n",
    "#Imports needed from Harmony\n",
    "# Using PySTAC\n",
    "from urllib.parse import urlparse\n",
    "import requests\n",
    "#from pystac import STAC_IO\n",
    "from pystac import Catalog\n",
    "# Using intake\n",
    "import intake\n"
   ]
  },
  {
   "cell_type": "markdown",
   "id": "94abe1b6-4415-4423-b8ef-fb28a9fe222c",
   "metadata": {},
   "source": [
    "### Set geometry for spatial search:"
   ]
  },
  {
   "cell_type": "code",
   "execution_count": null,
   "id": "8a60554c-48fe-4f30-924c-12ac79ed21d8",
   "metadata": {
    "tags": []
   },
   "outputs": [],
   "source": [
    "field = geopandas.read_file('./data/ne_w_agfields.geojson')\n",
    "roi = json.loads(field.to_json())['features'][0]['geometry']\n",
    "roi"
   ]
  },
  {
   "cell_type": "code",
   "execution_count": null,
   "id": "37d21550-e777-428a-af6f-f8917cdf2c97",
   "metadata": {
    "tags": []
   },
   "outputs": [],
   "source": [
    "STAC_URL = 'https://cmr.earthdata.nasa.gov/stac'\n",
    "catalog = Client.open(f'{STAC_URL}/LPCLOUD/')\n",
    "\n",
    "#New version of CMR (CMR-1.217.0-r23.1.1) deployed 2/22 now requires concept-id, not shortname. I still can't get this to work using collection-id however:\n",
    "# HLSL30.v2.0 --> C2021957657-LPCLOUD\n",
    "# HLSS30.v2.0 --> C2021957295-LPCLOUD\n",
    "search = catalog.search(\n",
    "    collections = \"C2021957657-LPCLOUD\",\n",
    "#    collections = [\"HLSL30.v2.0\"],\n",
    "#    intersects = roi,\n",
    "    datetime = '2021-05/2021-08'\n",
    ")               \n",
    "search.matched()"
   ]
  },
  {
   "cell_type": "code",
   "execution_count": null,
   "id": "e9b50d4b-1a7b-4844-bc1a-216f308d44fe",
   "metadata": {
    "tags": []
   },
   "outputs": [],
   "source": [
    "items = search.get_all_items()\n",
    "print(items[0])\n",
    "items[0].assets\n",
    "# data_url = items[0].assets['B04'].href\n",
    "# data_url"
   ]
  },
  {
   "cell_type": "code",
   "execution_count": null,
   "id": "b9d30505-16d9-4836-bf1d-a3e0e8635588",
   "metadata": {},
   "outputs": [],
   "source": [
    "# #We can do this with the latest version of earthaccess so that we don't have to use the GDAL driver code below. But, this needs to be tested first:  \n",
    "\n",
    "# import earthaccess\n",
    "\n",
    "# da = xr.open_mfdataset(earthaccess.open([data_url]), engine=\"rasterio\")\n",
    "# da = da.squeeze(\"band\", drop=True)\n",
    "# da"
   ]
  },
  {
   "cell_type": "code",
   "execution_count": null,
   "id": "b458fa6a-2d4b-446e-b7cb-5d3f3345917e",
   "metadata": {
    "tags": []
   },
   "outputs": [],
   "source": [
    "rio_env = rio.Env(GDAL_DISABLE_READDIR_ON_OPEN='EMPTY',\n",
    "                  GDAL_HTTP_COOKIEFILE=os.path.expanduser('~/cookies.txt'),\n",
    "                  GDAL_HTTP_COOKIEJAR=os.path.expanduser('~/cookies.txt'))\n",
    "rio_env.__enter__()"
   ]
  },
  {
   "cell_type": "code",
   "execution_count": null,
   "id": "bded01cc-fcd1-42e9-9573-58a44ee14343",
   "metadata": {
    "tags": []
   },
   "outputs": [],
   "source": [
    "da = rioxarray.open_rasterio(data_url)\n",
    "da = da.squeeze('band', drop=True)\n",
    "da"
   ]
  },
  {
   "cell_type": "code",
   "execution_count": null,
   "id": "053b2733-32e0-422b-9096-17ac7e39bfb7",
   "metadata": {
    "tags": []
   },
   "outputs": [],
   "source": [
    "da.hvplot.image(x='x', y='y', cmap='fire', rasterize=True, width=800, height=600, colorbar=True)    # colormaps -> https://holoviews.org/user_guide/Colormaps.html"
   ]
  },
  {
   "cell_type": "markdown",
   "id": "9c19c8ac-a6f8-4357-b944-cc241d53ed3d",
   "metadata": {
    "tags": []
   },
   "source": [
    "## 3. VEDA Example\n"
   ]
  },
  {
   "cell_type": "code",
   "execution_count": null,
   "id": "6ddd6112-8fb6-4c57-8689-b9c4817c9ebf",
   "metadata": {},
   "outputs": [],
   "source": [
    "STAC_API_URL = \"https://staging-stac.delta-backend.com/\"\n",
    "collection = \"social-vulnerability-index-overall-nopop\""
   ]
  },
  {
   "cell_type": "code",
   "execution_count": null,
   "id": "fd41ffc0-5b55-4b91-90e3-e7300c52cb8b",
   "metadata": {},
   "outputs": [],
   "source": [
    "search = Client.open(STAC_API_URL).search(collections=[collection])\n",
    "items = list(search.items())\n",
    "items[0]"
   ]
  },
  {
   "cell_type": "code",
   "execution_count": null,
   "id": "555d149f-074a-4b9b-91e8-75250c526f90",
   "metadata": {
    "tags": []
   },
   "outputs": [],
   "source": [
    "s3_link = items[0].assets['cog_default'].href\n",
    "print(s3_link)\n",
    "\n",
    "# #I dont have access yet to the data:\n",
    "# da = xr.open_dataset(s3_link, engine=\"rasterio\")\n",
    "# da = da.squeeze(\"band\", drop=True)\n",
    "# da"
   ]
  },
  {
   "cell_type": "markdown",
   "id": "14d3b8aa-7ebf-45b9-a66b-1962cb4cae13",
   "metadata": {},
   "source": [
    "## 4. Harmony Example"
   ]
  },
  {
   "cell_type": "code",
   "execution_count": null,
   "id": "58114387-f6a4-49db-b861-15b08249d95b",
   "metadata": {
    "tags": []
   },
   "outputs": [],
   "source": [
    "import sys\n",
    "!{sys.executable} -m pip install -U harmony-py"
   ]
  },
  {
   "cell_type": "markdown",
   "id": "76e9e075-54b5-4529-aece-ede26cf962ad",
   "metadata": {},
   "source": [
    "Now need to restart kernel"
   ]
  },
  {
   "cell_type": "code",
   "execution_count": null,
   "id": "41b71d46-b21c-4c06-9e0b-1b8e5bcfe7bc",
   "metadata": {},
   "outputs": [],
   "source": [
    "from harmony import BBox, Client, Collection, Request\n",
    "from harmony.config import Environment\n",
    "import datetime as dt\n",
    "\n",
    "import intake"
   ]
  },
  {
   "cell_type": "code",
   "execution_count": null,
   "id": "700cb295-8feb-45d3-9db4-14c41ae34809",
   "metadata": {},
   "outputs": [],
   "source": [
    "harmony_client = Client() # assumes .netrc usage, option 3 above"
   ]
  },
  {
   "cell_type": "code",
   "execution_count": null,
   "id": "7e713b30-76dc-4d39-918b-4794de528c13",
   "metadata": {},
   "outputs": [],
   "source": [
    "shapefile_path = './data/Big_Island_0005.zip' \n",
    "\n",
    "request = Request(\n",
    "    collection=Collection(id='SENTINEL-1_INTERFEROGRAMS'),\n",
    "    #spatial=BBox(-155.75, 19.26, -155.3, 19.94), # bounding box example that can be used as an alternative to shapefile input\n",
    "    shape=shapefile_path,\n",
    "    temporal={\n",
    "        'start': dt.datetime(2020, 2, 24),\n",
    "        'stop': dt.datetime(2020, 2, 25),\n",
    "    },\n",
    "    variables=['science/grids/data/unwrappedPhase'],\n",
    "    format='image/tiff',\n",
    "    max_results=2,\n",
    ")"
   ]
  },
  {
   "cell_type": "code",
   "execution_count": null,
   "id": "8c94bca5-62a7-4b62-b571-e8ec72aede02",
   "metadata": {},
   "outputs": [],
   "source": [
    "job_id = harmony_client.submit(request)\n",
    "job_id"
   ]
  },
  {
   "cell_type": "code",
   "execution_count": null,
   "id": "41f56355-2888-4134-80d1-af6c78fe7038",
   "metadata": {},
   "outputs": [],
   "source": [
    "print(harmony_client.status(job_id))\n",
    "harmony_client.wait_for_processing(job_id, show_progress=True)"
   ]
  },
  {
   "cell_type": "code",
   "execution_count": null,
   "id": "6224b8b0-8ec2-429b-84b7-5bb8cf5a0d9e",
   "metadata": {},
   "outputs": [],
   "source": [
    "# urls = harmony_client.result_urls(job_id)\n",
    "# list(urls)"
   ]
  },
  {
   "cell_type": "code",
   "execution_count": null,
   "id": "c421f21d-0b2a-4b97-9db8-781d6334fbb1",
   "metadata": {},
   "outputs": [],
   "source": [
    "stac_catalog_url = harmony_client.stac_catalog_url(job_id)\n",
    "stac_catalog_url"
   ]
  },
  {
   "cell_type": "markdown",
   "id": "38c7b2c3-29a6-40cd-bae8-d973c8b0e77f",
   "metadata": {},
   "source": [
    "Before trying to use the same CMR-STAC or VEDA workflow above, we need to understand how this STAC URL compares to CMR-STAC as far as the STAC spec: According to https://nasa-openscapes.github.io/2021-Cloud-Hackathon/tutorials/02_Data_Discovery_CMR-STAC_API.html:\n",
    "\n",
    "There are Four STAC Specifications:\n",
    "*STAC Catalog (aka DAAC Archive)\n",
    "*STAC Collection (aka Data Product)\n",
    "*STAC Item (aka Granule)\n",
    "*STAC API\n",
    "\n",
    "**Given that the Harmony STAC URL contains items, does this mean that this is technically a STAC Collection URL?**\n",
    "\n",
    "And according to:\n",
    "https://pystac-client.readthedocs.io/en/stable/tutorials/pystac-client-introduction.html\n",
    "\n",
    "\"If the Catalog is an API, we have the ability to search for items based on spatio-temporal properties.\"\n",
    "\n",
    "**So, we also need to confirm whether Harmony STAC endpoint is an API or not.** Based on the VEDA and CMR-STAC tutorials, those catalogs appear to be APIs as well. \n",
    "\n"
   ]
  },
  {
   "cell_type": "markdown",
   "id": "3962d5a1-adb8-47e5-a720-cc5e5b0d808b",
   "metadata": {},
   "source": [
    "### Now try the above CMR-STAC workflow:\n",
    "\n",
    "The commented line above gives me this error:\n",
    "\n",
    "```ClientTypeError: Could not open Client (href=https://harmony.earthdata.nasa.gov/stac/111892c1-1f95-4be4-b278-031c41564a5c/?linktype=https), expected type=Catalog, found type=None```"
   ]
  },
  {
   "cell_type": "code",
   "execution_count": null,
   "id": "62078a2f-32df-4913-90b1-ca42c976a3f2",
   "metadata": {
    "tags": []
   },
   "outputs": [],
   "source": [
    "from pystac_client import Client \n",
    "#catalog = Client.open(stac_catalog_url)\n"
   ]
  },
  {
   "cell_type": "markdown",
   "id": "738fc81f-1107-46ff-ab00-c2466d0a3181",
   "metadata": {},
   "source": [
    "I had to modify the existing Harmony-py tutorial to update based on the current `pystac` documentation (commented line is the old code:"
   ]
  },
  {
   "cell_type": "code",
   "execution_count": null,
   "id": "4871d6c5-e13a-476b-b2a1-41176f6a58c6",
   "metadata": {},
   "outputs": [],
   "source": [
    "from urllib.parse import urlparse\n",
    "import requests\n",
    "from pystac.stac_io import StacIO\n",
    "#from pystac import STAC_IO\n",
    "\n",
    "def requests_read_method(uri):\n",
    "    parsed = urlparse(uri)\n",
    "    if parsed.hostname.startswith('harmony.'):\n",
    "        return harmony_client.read_text(uri)\n",
    "    else:\n",
    "        return StacIO.default_read_text_method(uri)\n",
    "\n",
    "StacIO.read_text_method = requests_read_method"
   ]
  },
  {
   "cell_type": "markdown",
   "id": "31f652a4-eb60-4d26-bd45-9d2020b1580d",
   "metadata": {},
   "source": [
    "The next code block from the Harmony-py tutorial throws this error:\n",
    "\n",
    "```Exception: Could not read uri https://harmony.earthdata.nasa.gov/stac/111892c1-1f95-4be4-b278-031c41564a5c/?linktype=https"
   ]
  },
  {
   "cell_type": "code",
   "execution_count": null,
   "id": "3fb2a56b-d579-4a33-a63e-43345b692e44",
   "metadata": {
    "tags": []
   },
   "outputs": [],
   "source": [
    "# from pystac import Catalog\n",
    "\n",
    "# cat = Catalog.from_file(stac_catalog_url)\n",
    "\n",
    "# print(cat.title)\n",
    "# s3_links = []\n",
    "# for item in cat.get_all_items():\n",
    "#     print(item.datetime, [asset.href for asset in item.assets.values()])\n",
    "#     s3_links.append([asset.href for asset in item.assets.values()])"
   ]
  },
  {
   "cell_type": "markdown",
   "id": "ee206e14-74e7-4d95-9e39-da43c0023d48",
   "metadata": {},
   "source": [
    "This recent Pangeo discourse post may be a hint, as Tom A. mentions that this could be a difference between the API and a static catalog: https://discourse.pangeo.io/t/pystac-client-cannot-load-stac-catalog/3071\n",
    "\n",
    "```import pystac\n",
    "pystac.read_file(\"https://meeo-s5p.s3.amazonaws.com/catalog.json\")```\n",
    "\n",
    "I get an error when I try with the Harmony URL:"
   ]
  },
  {
   "cell_type": "code",
   "execution_count": null,
   "id": "ac1ee22f-c28f-4d7b-8b76-600b95d37e0a",
   "metadata": {},
   "outputs": [],
   "source": [
    "import pystac\n",
    "#pystac.read_file(stac_catalog_url)"
   ]
  },
  {
   "cell_type": "code",
   "execution_count": null,
   "id": "b0f872ae-244c-45bd-8f87-87035f2ff846",
   "metadata": {},
   "outputs": [],
   "source": []
  }
 ],
 "metadata": {
  "kernelspec": {
   "display_name": "Python 3 (ipykernel)",
   "language": "python",
   "name": "python3"
  },
  "language_info": {
   "codemirror_mode": {
    "name": "ipython",
    "version": 3
   },
   "file_extension": ".py",
   "mimetype": "text/x-python",
   "name": "python",
   "nbconvert_exporter": "python",
   "pygments_lexer": "ipython3",
   "version": "3.9.15"
  }
 },
 "nbformat": 4,
 "nbformat_minor": 5
}
